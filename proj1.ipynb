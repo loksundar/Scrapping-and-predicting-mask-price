{
 "cells": [
  {
   "cell_type": "code",
   "execution_count": 1,
   "metadata": {},
   "outputs": [],
   "source": [
    "from selenium import webdriver \n",
    "import pandas as pd \n",
    "import pandas as pd\n",
    "import numpy as np\n",
    "import time"
   ]
  },
  {
   "cell_type": "code",
   "execution_count": 14,
   "metadata": {},
   "outputs": [],
   "source": [
    "driver = webdriver.Firefox(executable_path=r'C:\\Users\\LOKSUNDAR\\Dropbox\\Kofluence project\\geckodriver.exe')"
   ]
  },
  {
   "cell_type": "code",
   "execution_count": 26,
   "metadata": {},
   "outputs": [],
   "source": [
    "url = 'https://www.etsy.com/in-en/search?q=Face+masks&mosv=sese&moci=968090972999&mosi=968091300233&ref=hp_bubbles_nov_2020&anchor_listing_id=873788016'\n",
    "driver.get(url)\n",
    "time.sleep(5)\n",
    "lst = list()\n",
    "for i in range(51):\n",
    "    try:\n",
    "        enti = driver.find_element_by_xpath('/html/body/div[5]/div/div[1]/div/div/div[3]/div[3]/div[3]/div/div[1]/div/li['+str(i+1)+']')\n",
    "        name= enti.find_element_by_xpath('/html/body/div[5]/div/div[1]/div/div/div[3]/div[3]/div[3]/div/div[1]/div/li['+str(i+1)+']/div/div/a/div[2]/div/h3').text\n",
    "        comp = enti.find_element_by_xpath('/html/body/div[5]/div/div[1]/div/div/div[3]/div[3]/div[3]/div/div[1]/div/li['+str(i+1)+']/div/div/a/div[2]/div/div/p[1]').text \n",
    "        try:\n",
    "            nrew = enti.find_element_by_xpath('/html/body/div[5]/div/div[1]/div/div/div[3]/div[3]/div[3]/div/div[1]/div/li['+str(i+1)+']/div/div/a/div[2]/div/div/span/span[2]').text\n",
    "        except:\n",
    "            nrew=0\n",
    "        price = enti.find_element_by_xpath('/html/body/div[5]/div/div[1]/div/div/div[3]/div[3]/div[3]/div/div[1]/div/li['+str(i+1)+']/div/div/a/div[2]/div/span[1]/span[2]').text\n",
    "        imlink = enti.find_element_by_xpath('/html/body/div[5]/div/div[1]/div/div/div[3]/div[3]/div[3]/div/div[1]/div/li['+str(i+1)+']/div/div/a/div[1]/div/div/div/div/div/img').get_attribute('src')\n",
    "        a = enti.find_element_by_xpath('/html/body/div[5]/div/div[1]/div/div/div[3]/div[3]/div[3]/div/div[1]/div/li['+str(i+1)+']/div/div/a').get_attribute('href')\n",
    "        lst.append([name,comp,nrew,price,imlink,a])\n",
    "    except:\n",
    "        try:\n",
    "            enti = driver.find_element_by_xpath('/html/body/div[5]/div/div[1]/div/div/div[3]/div[3]/div[3]/div/div[1]/div/li['+str(i+1)+']')\n",
    "            name= enti.find_element_by_xpath('/html/body/div[5]/div/div[1]/div/div/div[3]/div[3]/div[3]/div/div[1]/div/li['+str(i+1)+']/div/a/div[2]/div/h3').text\n",
    "            comp = enti.find_element_by_xpath('/html/body/div[5]/div/div[1]/div/div/div[3]/div[3]/div[3]/div/div[1]/div/li['+str(i+1)+']/div/a/div[2]/div/div/p[1]').text \n",
    "            try:\n",
    "                nrew = enti.find_element_by_xpath('/html/body/div[5]/div/div[1]/div/div/div[3]/div[3]/div[3]/div/div[1]/div/li['+str(i+1)+']/div/a/div[2]/div/div/span/span[2]').text\n",
    "            except:\n",
    "                nrew=0        \n",
    "            price = enti.find_element_by_xpath('/html/body/div[5]/div/div[1]/div/div/div[3]/div[3]/div[3]/div/div[1]/div/li['+str(i+1)+']/div/a/div[2]/div/span[1]/span[2]').text\n",
    "            imlink = enti.find_element_by_xpath('/html/body/div[5]/div/div[1]/div/div/div[3]/div[3]/div[3]/div/div[1]/div/li['+str(i+1)+']/div/a/div[1]/div/div/div/div/div/img').get_attribute('src')\n",
    "            a = enti.find_element_by_xpath('/html/body/div[5]/div/div[1]/div/div/div[3]/div[3]/div[3]/div/div[1]/div/li['+str(i+1)+']/div/a').get_attribute('href')\n",
    "            lst.append([name,comp,nrew,price,imlink,a])\n",
    "        except:\n",
    "            lst.append(np.na,np.na,np.na,np.na,np.na,np.na)"
   ]
  },
  {
   "cell_type": "code",
   "execution_count": null,
   "metadata": {},
   "outputs": [],
   "source": []
  },
  {
   "cell_type": "code",
   "execution_count": null,
   "metadata": {},
   "outputs": [],
   "source": []
  },
  {
   "cell_type": "code",
   "execution_count": 27,
   "metadata": {},
   "outputs": [],
   "source": [
    "ds = pd.DataFrame(lst,columns = ['Name','Company','Nrew','Price','IMLINK','Link'])"
   ]
  },
  {
   "cell_type": "code",
   "execution_count": 28,
   "metadata": {},
   "outputs": [
    {
     "data": {
      "text/html": [
       "<div>\n",
       "<style scoped>\n",
       "    .dataframe tbody tr th:only-of-type {\n",
       "        vertical-align: middle;\n",
       "    }\n",
       "\n",
       "    .dataframe tbody tr th {\n",
       "        vertical-align: top;\n",
       "    }\n",
       "\n",
       "    .dataframe thead th {\n",
       "        text-align: right;\n",
       "    }\n",
       "</style>\n",
       "<table border=\"1\" class=\"dataframe\">\n",
       "  <thead>\n",
       "    <tr style=\"text-align: right;\">\n",
       "      <th></th>\n",
       "      <th>Name</th>\n",
       "      <th>Company</th>\n",
       "      <th>Nrew</th>\n",
       "      <th>Price</th>\n",
       "      <th>IMLINK</th>\n",
       "      <th>Link</th>\n",
       "    </tr>\n",
       "  </thead>\n",
       "  <tbody>\n",
       "    <tr>\n",
       "      <th>0</th>\n",
       "      <td>6-Pack Face Masks // Face Masks with Filter Po...</td>\n",
       "      <td>Ad by FunkandChill</td>\n",
       "      <td>(4,436)</td>\n",
       "      <td>29.95</td>\n",
       "      <td>https://i.etsystatic.com/10701776/d/il/90fa10/...</td>\n",
       "      <td>https://www.etsy.com/in-en/listing/809556965/6...</td>\n",
       "    </tr>\n",
       "    <tr>\n",
       "      <th>1</th>\n",
       "      <td>Poppy mask poppy face mask poppy appeal lest w...</td>\n",
       "      <td>Ad by GetItPersonalisedUK</td>\n",
       "      <td>(92)</td>\n",
       "      <td>6.83</td>\n",
       "      <td>https://i.etsystatic.com/24753855/d/il/69f2b9/...</td>\n",
       "      <td>https://www.etsy.com/in-en/listing/873571800/p...</td>\n",
       "    </tr>\n",
       "    <tr>\n",
       "      <th>2</th>\n",
       "      <td>Anti-Fog Clear Window Face Mask - Adult Navy Blue</td>\n",
       "      <td>Ad by ShowMySmile</td>\n",
       "      <td>(274)</td>\n",
       "      <td>14.99</td>\n",
       "      <td>https://i.etsystatic.com/23589937/d/il/6ae658/...</td>\n",
       "      <td>https://www.etsy.com/in-en/listing/839181700/a...</td>\n",
       "    </tr>\n",
       "    <tr>\n",
       "      <th>3</th>\n",
       "      <td>Same Day Dispatch MADE IN UK Face Mask, Silk S...</td>\n",
       "      <td>Ad by GoldenxHour</td>\n",
       "      <td>(4,068)</td>\n",
       "      <td>11.64</td>\n",
       "      <td>https://i.etsystatic.com/21703996/c/2000/1589/...</td>\n",
       "      <td>https://www.etsy.com/in-en/listing/804173442/s...</td>\n",
       "    </tr>\n",
       "    <tr>\n",
       "      <th>4</th>\n",
       "      <td>Face Mask with Nose Wire, Filter Pocket, Made ...</td>\n",
       "      <td>Ad by LittleWillowBunny</td>\n",
       "      <td>(1,794)</td>\n",
       "      <td>9.99</td>\n",
       "      <td>https://i.etsystatic.com/23224361/d/il/22eae3/...</td>\n",
       "      <td>https://www.etsy.com/in-en/listing/848594752/f...</td>\n",
       "    </tr>\n",
       "  </tbody>\n",
       "</table>\n",
       "</div>"
      ],
      "text/plain": [
       "                                                Name  \\\n",
       "0  6-Pack Face Masks // Face Masks with Filter Po...   \n",
       "1  Poppy mask poppy face mask poppy appeal lest w...   \n",
       "2  Anti-Fog Clear Window Face Mask - Adult Navy Blue   \n",
       "3  Same Day Dispatch MADE IN UK Face Mask, Silk S...   \n",
       "4  Face Mask with Nose Wire, Filter Pocket, Made ...   \n",
       "\n",
       "                     Company     Nrew  Price  \\\n",
       "0         Ad by FunkandChill  (4,436)  29.95   \n",
       "1  Ad by GetItPersonalisedUK     (92)   6.83   \n",
       "2          Ad by ShowMySmile    (274)  14.99   \n",
       "3          Ad by GoldenxHour  (4,068)  11.64   \n",
       "4    Ad by LittleWillowBunny  (1,794)   9.99   \n",
       "\n",
       "                                              IMLINK  \\\n",
       "0  https://i.etsystatic.com/10701776/d/il/90fa10/...   \n",
       "1  https://i.etsystatic.com/24753855/d/il/69f2b9/...   \n",
       "2  https://i.etsystatic.com/23589937/d/il/6ae658/...   \n",
       "3  https://i.etsystatic.com/21703996/c/2000/1589/...   \n",
       "4  https://i.etsystatic.com/23224361/d/il/22eae3/...   \n",
       "\n",
       "                                                Link  \n",
       "0  https://www.etsy.com/in-en/listing/809556965/6...  \n",
       "1  https://www.etsy.com/in-en/listing/873571800/p...  \n",
       "2  https://www.etsy.com/in-en/listing/839181700/a...  \n",
       "3  https://www.etsy.com/in-en/listing/804173442/s...  \n",
       "4  https://www.etsy.com/in-en/listing/848594752/f...  "
      ]
     },
     "execution_count": 28,
     "metadata": {},
     "output_type": "execute_result"
    }
   ],
   "source": [
    "ds.head()"
   ]
  },
  {
   "cell_type": "code",
   "execution_count": 29,
   "metadata": {},
   "outputs": [
    {
     "data": {
      "text/plain": [
       "(51, 6)"
      ]
     },
     "execution_count": 29,
     "metadata": {},
     "output_type": "execute_result"
    }
   ],
   "source": [
    "ds.shape"
   ]
  },
  {
   "cell_type": "code",
   "execution_count": 32,
   "metadata": {},
   "outputs": [],
   "source": [
    "def get_rew(url):\n",
    "    try:\n",
    "        driver.get(url)\n",
    "        time.sleep(3)\n",
    "        t = driver.find_element_by_xpath('/html/body/div[5]/div[2]/div[1]/div/div/div[1]/div[4]/div/div/div[1]/div/div[1]/div/div/h3/span/span/span[1]')\n",
    "        return float(t.text.split()[0])\n",
    "    except:\n",
    "        return 0"
   ]
  },
  {
   "cell_type": "code",
   "execution_count": 33,
   "metadata": {},
   "outputs": [],
   "source": [
    "rat = [ get_rew(x) for x in ds['Link']]"
   ]
  },
  {
   "cell_type": "code",
   "execution_count": 35,
   "metadata": {},
   "outputs": [],
   "source": [
    "ds['Rating'] = rat"
   ]
  },
  {
   "cell_type": "code",
   "execution_count": null,
   "metadata": {},
   "outputs": [],
   "source": []
  },
  {
   "cell_type": "code",
   "execution_count": null,
   "metadata": {},
   "outputs": [],
   "source": []
  },
  {
   "cell_type": "code",
   "execution_count": 36,
   "metadata": {},
   "outputs": [],
   "source": [
    "ds.to_csv(\"Data.csv\",header = True)"
   ]
  },
  {
   "cell_type": "code",
   "execution_count": null,
   "metadata": {},
   "outputs": [],
   "source": []
  },
  {
   "cell_type": "markdown",
   "metadata": {},
   "source": [
    "# Data Collection Over \n"
   ]
  },
  {
   "cell_type": "code",
   "execution_count": 89,
   "metadata": {},
   "outputs": [],
   "source": [
    "def ext_inte(a):\n",
    "    if(a==0):\n",
    "        return 0\n",
    "    else:\n",
    "        x = [ i for i in a if i.isdigit()]\n",
    "        st = ''\n",
    "        for i in x:\n",
    "            st += i\n",
    "        return(int(st))"
   ]
  },
  {
   "cell_type": "code",
   "execution_count": 90,
   "metadata": {},
   "outputs": [],
   "source": [
    "ds[\"Nrew\"] = [ ext_inte(x) for x in ds['Nrew']]"
   ]
  },
  {
   "cell_type": "code",
   "execution_count": null,
   "metadata": {},
   "outputs": [],
   "source": []
  }
 ],
 "metadata": {
  "kernelspec": {
   "display_name": "Python 3",
   "language": "python",
   "name": "python3"
  },
  "language_info": {
   "codemirror_mode": {
    "name": "ipython",
    "version": 3
   },
   "file_extension": ".py",
   "mimetype": "text/x-python",
   "name": "python",
   "nbconvert_exporter": "python",
   "pygments_lexer": "ipython3",
   "version": "3.8.3"
  }
 },
 "nbformat": 4,
 "nbformat_minor": 4
}
